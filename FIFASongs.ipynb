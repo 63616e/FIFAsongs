{
 "cells": [
  {
   "cell_type": "code",
   "execution_count": 296,
   "metadata": {},
   "outputs": [],
   "source": [
    "import pandas as pd \n",
    "import plotly_express as px\n",
    "import matplotlib.pyplot as plt\n",
    "\n",
    "\n",
    "df = pd.read_csv('./datasets/FIFAINFO_with_metadata.csv')\n",
    "\n",
    "# sort everything based on year descending\n",
    "df = df.sort_values(by=['Year'] , ascending=False)"
   ]
  },
  {
   "cell_type": "code",
   "execution_count": 297,
   "metadata": {},
   "outputs": [
    {
     "name": "stdout",
     "output_type": "stream",
     "text": [
      "370\n"
     ]
    }
   ],
   "source": [
    "# show the unique values in the column Genre\n",
    "\n",
    "uniques = df.Genre.unique()\n",
    "\n",
    "print(len(uniques))"
   ]
  },
  {
   "cell_type": "code",
   "execution_count": 298,
   "metadata": {},
   "outputs": [],
   "source": [
    "\n",
    "# fill empty genre values with 'Other'\n",
    "df = df.fillna(value={'Genre':'Other'})\n"
   ]
  },
  {
   "cell_type": "code",
   "execution_count": 299,
   "metadata": {},
   "outputs": [],
   "source": [
    "cleaner(df)\n"
   ]
  },
  {
   "cell_type": "code",
   "execution_count": 300,
   "metadata": {},
   "outputs": [
    {
     "name": "stdout",
     "output_type": "stream",
     "text": [
      "48\n"
     ]
    }
   ],
   "source": [
    "# show the unique values in the column Genre\n",
    "\n",
    "uniques = df.Genre.unique()\n",
    "\n",
    "print(len(uniques))\n"
   ]
  },
  {
   "cell_type": "code",
   "execution_count": 301,
   "metadata": {},
   "outputs": [],
   "source": [
    "# cleaner function\n",
    "def cleaner(df):\n",
    "    # if the the genre column in df contains substring 'pop' , it's just pop not something else\n",
    "    df.loc[df['Genre'].str.contains('pop'), 'Genre'] = 'Pop'\n",
    "    df.loc[df['Genre'].str.contains('indie'), 'Genre'] = 'Indie'\n",
    "    df.loc[df['Genre'].str.contains('rock'), 'Genre'] = 'Rock'\n",
    "    df.loc[df['Genre'].str.contains('emo'), 'Genre'] = 'Rock'\n",
    "    df.loc[df['Genre'].str.contains('rap'), 'Genre'] = 'Rap'\n",
    "    df.loc[df['Genre'].str.contains('hip hop'), 'Genre'] = 'Hip Hop'\n",
    "    df.loc[df['Genre'].str.contains('jazz'), 'Genre'] = 'Jazz'\n",
    "\n",
    "    \n",
    "\n",
    "    df.loc[df['Genre'].str.contains('edm'), 'Genre'] = 'edm'\n",
    "    df.loc[df['Genre'].str.contains('r&b'), 'Genre'] = 'r&b'\n",
    "    df.loc[df['Genre'].str.contains('drum'), 'Genre'] = 'dnb'\n",
    "    df.loc[df['Genre'].str.contains('funk'), 'Genre'] = 'funk'\n",
    "    df.loc[df['Genre'].str.contains('drill'), 'Genre'] = 'drill'\n",
    "    df.loc[df['Genre'].str.contains('drum and bass'), 'Genre'] = 'dnb'\n",
    "    df.loc[df['Genre'].str.contains('dnb'), 'Genre'] = 'dnb'\n",
    "\n",
    "    df.loc[df['Genre'].str.contains('band'), 'Genre'] = 'Rock'\n",
    "    df.loc[df['Genre'].str.contains('punk'), 'Genre'] = 'Rock'\n",
    "    df.loc[df['Genre'].str.contains('metal'), 'Genre'] = 'Rock'\n",
    "\n",
    "\n",
    "    alt = ['alternative', 'ukg', 'escape room', 'garage']\n",
    "    for i in alt:\n",
    "        df.loc[df['Genre'].str.contains(i), 'Genre'] = 'Alternative'\n",
    "\n",
    "\n",
    "    # some smaller genres are also incorporated into its 'parent' genres\n",
    "\n",
    "    electronic = ['disco', 'electronic', 'tronica', 'psych', 'bass', 'complextro',\n",
    "                  'trance', 'techno', 'electro', 'wave', 'step', 'electra', 'ambient', 'core', 'big room', 'boom', 'big beat','house']\n",
    "    for i in electronic:\n",
    "        df.loc[df['Genre'].str.contains(i), 'Genre'] = 'Electronic'\n",
    "\n",
    "    # dancehall for this context usually refers to a pop genre more than it does to the reggae genre\n",
    "    df.loc[df['Genre'].str.contains('dance'), 'Genre'] = 'pop'\n",
    "\n",
    "    # alt-z is just alt but with a twist\n",
    "    df.loc[df['Genre'].str.contains('alt'), 'Genre'] = 'Alternative'\n",
    "\n",
    "    # all afroswing,afrobeat fusion, and moombahton would be incorporated into afrobeat, sorry :(\n",
    "\n",
    "\n",
    "    df.loc[df['Genre'].str.contains('african'), 'Genre'] = 'afrobeat'\n",
    "    df.loc[df['Genre'].str.contains('afro'), 'Genre'] = 'afrobeat'\n",
    "    df.loc[df['Genre'].str.contains('moombahton'), 'Genre'] = 'afrobeat'\n",
    "    df.loc[df['Genre'].str.contains('zoughlou'), 'Genre'] = 'afrobeat'\n",
    "\n",
    "    df.loc[df['Genre'].str.contains('reggae'), 'Genre'] = 'reggae'\n",
    "    df.loc[df['Genre'].str.contains('soul'), 'Genre'] = 'soul'\n",
    "\n",
    "    # call anything that the Lusophone do as a genre of lusophone\n",
    "    # this would have bossa nova,brasileiro genres etc\n",
    "\n",
    "    lusophone = ['brasileiro', 'nova', 'brazilian', 'batida', 'pagode']\n",
    "    for i in lusophone:\n",
    "        df.loc[df['Genre'].str.contains(i), 'Genre'] = 'lusophone'\n",
    "\n",
    "    # some specific spanish genres such as musica canaria would also be incorporated into its own counterpart called latin\n",
    "\n",
    "    latin = ['canaria', 'latin', 'cumbia', 'musica',\n",
    "             'chicha', 'champeta', 'mpb', 'boogaloo']\n",
    "\n",
    "    for i in latin:\n",
    "        df.loc[df['Genre'].str.contains(i), 'Genre'] = 'latin'\n",
    "\n",
    "    francophone = ['francoton', 'chanson']\n",
    "    for i in francophone:\n",
    "        df.loc[df['Genre'].str.contains(i), 'Genre'] = 'francophone'\n"
   ]
  },
  {
   "cell_type": "code",
   "execution_count": 302,
   "metadata": {},
   "outputs": [],
   "source": [
    "# if the genre column in df contains substring 'other', export the dataframe to a csv file\n",
    "df_subset_genre = df.loc[df['Genre'] == 'Other']\n",
    "df_subset_genre.to_csv('FIFA_songs_with_other_genre.csv')"
   ]
  },
  {
   "cell_type": "code",
   "execution_count": 303,
   "metadata": {},
   "outputs": [],
   "source": [
    "fig = px.histogram(df, x=\"Genre\")\n",
    "# export this fig to a png file\n",
    "fig.write_image('FIFA_songs_with_other_genre.png')"
   ]
  },
  {
   "cell_type": "markdown",
   "metadata": {},
   "source": [
    "![](./FIFA_songs_with_other_genre.png)"
   ]
  }
 ],
 "metadata": {
  "interpreter": {
   "hash": "f5f61564bdc7f53415b2b505550c56a4073778d531a25cde85da04c84ebb0b38"
  },
  "kernelspec": {
   "display_name": "Python 3.9.7 ('base')",
   "language": "python",
   "name": "python3"
  },
  "language_info": {
   "codemirror_mode": {
    "name": "ipython",
    "version": 3
   },
   "file_extension": ".py",
   "mimetype": "text/x-python",
   "name": "python",
   "nbconvert_exporter": "python",
   "pygments_lexer": "ipython3",
   "version": "3.9.7"
  },
  "orig_nbformat": 4
 },
 "nbformat": 4,
 "nbformat_minor": 2
}
